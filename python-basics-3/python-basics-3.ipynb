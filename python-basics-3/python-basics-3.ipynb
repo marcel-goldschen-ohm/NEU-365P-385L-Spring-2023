{
 "cells": [
  {
   "cell_type": "code",
   "execution_count": 1,
   "id": "01df27fd",
   "metadata": {
    "slideshow": {
     "slide_type": "skip"
    }
   },
   "outputs": [
    {
     "data": {
      "text/html": [
       "<link rel=\"stylesheet\" type=\"text/css\" href=\"./rise.css\" />\n"
      ],
      "text/plain": [
       "<IPython.core.display.HTML object>"
      ]
     },
     "metadata": {},
     "output_type": "display_data"
    }
   ],
   "source": [
    "%%html\n",
    "<link rel=\"stylesheet\" type=\"text/css\" href=\"./rise.css\" />"
   ]
  },
  {
   "cell_type": "markdown",
   "id": "0cd31932",
   "metadata": {
    "slideshow": {
     "slide_type": "slide"
    }
   },
   "source": [
    "# Python basics - Part 3\n",
    "\n",
    "- Classes\n",
    "- Modules"
   ]
  },
  {
   "cell_type": "markdown",
   "id": "c027f841",
   "metadata": {
    "slideshow": {
     "slide_type": "slide"
    }
   },
   "source": [
    "# Classes\n",
    "\n",
    "- *Classes*\n",
    "- Modules"
   ]
  },
  {
   "cell_type": "markdown",
   "id": "22d19b2e",
   "metadata": {
    "cell_style": "center",
    "slideshow": {
     "slide_type": "slide"
    }
   },
   "source": [
    "### Learning goals - *Classes*\n",
    "\n",
    "|  |  |  |\n",
    "|--|--|--|\n",
    "| <img src=\"images/thinking-icon.png\"> | <div class=\"alert alert-info\">You will be able to write and use your own classes.</div> | `class MyClass:` |\n",
    "| <img src=\"images/thinking-icon.png\"> | <div class=\"alert alert-info\">You will appreciate that classes are not always the best option.</div> |  |"
   ]
  },
  {
   "cell_type": "markdown",
   "id": "f5b82be6",
   "metadata": {
    "slideshow": {
     "slide_type": "slide"
    }
   },
   "source": [
    "**A class is a template** for a collection of data values (*attributes*) and functions (*methods*) that define some behaviors."
   ]
  },
  {
   "cell_type": "code",
   "execution_count": 20,
   "id": "1cef6d02",
   "metadata": {},
   "outputs": [],
   "source": [
    "class MySpikingNeuron:\n",
    "    \"\"\" My cool neuron\n",
    "    \n",
    "    This neuron can spike\n",
    "    and stuff!\n",
    "    \"\"\"\n",
    "    \n",
    "    def get_avg_seconds_to_next_spike(self):\n",
    "        \"\"\" Returns the time in seconds to the next spike. \"\"\"\n",
    "        return 0.1"
   ]
  },
  {
   "cell_type": "code",
   "execution_count": 21,
   "id": "44feb3fd",
   "metadata": {
    "slideshow": {
     "slide_type": "fragment"
    }
   },
   "outputs": [
    {
     "data": {
      "text/plain": [
       "mappingproxy({'__module__': '__main__',\n",
       "              '__doc__': ' My cool neuron\\n    \\n    This neuron can spike\\n    and stuff!\\n    ',\n",
       "              'get_avg_seconds_to_next_spike': <function __main__.MySpikingNeuron.get_avg_seconds_to_next_spike(self)>,\n",
       "              '__dict__': <attribute '__dict__' of 'MySpikingNeuron' objects>,\n",
       "              '__weakref__': <attribute '__weakref__' of 'MySpikingNeuron' objects>})"
      ]
     },
     "execution_count": 21,
     "metadata": {},
     "output_type": "execute_result"
    }
   ],
   "source": [
    "MySpikingNeuron.__dict__"
   ]
  },
  {
   "cell_type": "markdown",
   "id": "f7b6d41a",
   "metadata": {
    "slideshow": {
     "slide_type": "slide"
    }
   },
   "source": [
    "To use the class you typically create an object that is an **instance** *of the class template*.\n",
    "\n",
    "`neuron` is an instance of `MySpikingNeuron`"
   ]
  },
  {
   "cell_type": "code",
   "execution_count": 22,
   "id": "f62315af",
   "metadata": {},
   "outputs": [
    {
     "data": {
      "text/plain": [
       "__main__.MySpikingNeuron"
      ]
     },
     "execution_count": 22,
     "metadata": {},
     "output_type": "execute_result"
    }
   ],
   "source": [
    "# instance = template()\n",
    "\n",
    "neuron = MySpikingNeuron()\n",
    "\n",
    "type(neuron)"
   ]
  },
  {
   "cell_type": "markdown",
   "id": "186fdda2",
   "metadata": {
    "slideshow": {
     "slide_type": "fragment"
    }
   },
   "source": [
    "You can access the components of the class instance via `.component`."
   ]
  },
  {
   "cell_type": "code",
   "execution_count": 23,
   "id": "7162d0b7",
   "metadata": {},
   "outputs": [
    {
     "data": {
      "text/plain": [
       "0.1"
      ]
     },
     "execution_count": 23,
     "metadata": {},
     "output_type": "execute_result"
    }
   ],
   "source": [
    "neuron.get_avg_seconds_to_next_spike()"
   ]
  },
  {
   "attachments": {},
   "cell_type": "markdown",
   "id": "dc65ef7b",
   "metadata": {
    "slideshow": {
     "slide_type": "slide"
    }
   },
   "source": [
    "### `__init___(self)`\n",
    "\n",
    "- `__init__` method is executed upon creation of each instance of a class.\n",
    "- `self` refers to the instance of the class you are working with.\n",
    "\n",
    "You use *self* to assign *attributes* to specific instances of a class."
   ]
  },
  {
   "cell_type": "code",
   "execution_count": 24,
   "id": "e8051a24",
   "metadata": {},
   "outputs": [],
   "source": [
    "class MySpikingNeuron:\n",
    "    \n",
    "    def __init__(self):\n",
    "        self.spike_rate_per_sec = 20"
   ]
  },
  {
   "cell_type": "code",
   "execution_count": 25,
   "id": "c3e3629a",
   "metadata": {
    "slideshow": {
     "slide_type": "fragment"
    }
   },
   "outputs": [],
   "source": [
    "neuron = MySpikingNeuron()  # __init__() called here with self = neuron"
   ]
  },
  {
   "cell_type": "code",
   "execution_count": 26,
   "id": "e4da25da",
   "metadata": {
    "slideshow": {
     "slide_type": "fragment"
    }
   },
   "outputs": [
    {
     "data": {
      "text/plain": [
       "20"
      ]
     },
     "execution_count": 26,
     "metadata": {},
     "output_type": "execute_result"
    }
   ],
   "source": [
    "neuron.spike_rate_per_sec"
   ]
  },
  {
   "cell_type": "markdown",
   "id": "7386581a",
   "metadata": {
    "slideshow": {
     "slide_type": "slide"
    }
   },
   "source": [
    "What is the reason for the following error?"
   ]
  },
  {
   "cell_type": "code",
   "execution_count": 27,
   "id": "635fb07a",
   "metadata": {},
   "outputs": [
    {
     "ename": "AttributeError",
     "evalue": "'MySpikingNeuron' object has no attribute 'spike_rate_per_sec'",
     "output_type": "error",
     "traceback": [
      "\u001b[0;31m---------------------------------------------------------------------------\u001b[0m",
      "\u001b[0;31mAttributeError\u001b[0m                            Traceback (most recent call last)",
      "Cell \u001b[0;32mIn[27], line 7\u001b[0m\n\u001b[1;32m      4\u001b[0m         spike_rate_per_sec \u001b[39m=\u001b[39m \u001b[39m20\u001b[39m\n\u001b[1;32m      6\u001b[0m neuron \u001b[39m=\u001b[39m MySpikingNeuron()\n\u001b[0;32m----> 7\u001b[0m neuron\u001b[39m.\u001b[39;49mspike_rate_per_sec\n",
      "\u001b[0;31mAttributeError\u001b[0m: 'MySpikingNeuron' object has no attribute 'spike_rate_per_sec'"
     ]
    }
   ],
   "source": [
    "class MySpikingNeuron:\n",
    "    \n",
    "    def __init__(self):\n",
    "        spike_rate_per_sec = 20\n",
    "\n",
    "neuron = MySpikingNeuron()\n",
    "neuron.spike_rate_per_sec"
   ]
  },
  {
   "cell_type": "markdown",
   "id": "e51c7800",
   "metadata": {
    "slideshow": {
     "slide_type": "slide"
    }
   },
   "source": [
    "`self` provides access to all of the class instance's data attributes."
   ]
  },
  {
   "cell_type": "code",
   "execution_count": 28,
   "id": "0caac044",
   "metadata": {},
   "outputs": [],
   "source": [
    "class MySpikingNeuron:\n",
    "    \n",
    "    def __init__(self):\n",
    "        self.spike_rate_per_sec = 20\n",
    "    \n",
    "    def get_avg_seconds_to_next_spike(self):\n",
    "        return 1 / self.spike_rate_per_sec"
   ]
  },
  {
   "cell_type": "markdown",
   "id": "5213e63e",
   "metadata": {
    "slideshow": {
     "slide_type": "fragment"
    }
   },
   "source": [
    "When calling a method of a class instance, `self` is assumed to be *the instance itself*.\n",
    "\n",
    "`neuron.get_avg_seconds_to_next_spike()` is equivalent to `MySpikingNeuron.get_avg_seconds_to_next_spike(self=neuron)`"
   ]
  },
  {
   "cell_type": "code",
   "execution_count": 29,
   "id": "157f2ad7",
   "metadata": {
    "slideshow": {
     "slide_type": "-"
    }
   },
   "outputs": [
    {
     "data": {
      "text/plain": [
       "0.05"
      ]
     },
     "execution_count": 29,
     "metadata": {},
     "output_type": "execute_result"
    }
   ],
   "source": [
    "neuron = MySpikingNeuron()\n",
    "\n",
    "neuron.get_avg_seconds_to_next_spike()"
   ]
  },
  {
   "cell_type": "code",
   "execution_count": 30,
   "id": "799266cf",
   "metadata": {},
   "outputs": [
    {
     "data": {
      "text/plain": [
       "0.05"
      ]
     },
     "execution_count": 30,
     "metadata": {},
     "output_type": "execute_result"
    }
   ],
   "source": [
    "MySpikingNeuron.get_avg_seconds_to_next_spike(self=neuron)"
   ]
  },
  {
   "cell_type": "markdown",
   "id": "786c8f91",
   "metadata": {
    "slideshow": {
     "slide_type": "slide"
    }
   },
   "source": [
    "Classes are mutable."
   ]
  },
  {
   "cell_type": "code",
   "execution_count": 31,
   "id": "377bedc8",
   "metadata": {
    "slideshow": {
     "slide_type": "slide"
    }
   },
   "outputs": [
    {
     "data": {
      "text/plain": [
       "0.05"
      ]
     },
     "execution_count": 31,
     "metadata": {},
     "output_type": "execute_result"
    }
   ],
   "source": [
    "class MySpikingNeuron:\n",
    "    \n",
    "    def __init__(self):\n",
    "        self.spike_rate_per_sec = 20\n",
    "    \n",
    "    def get_avg_seconds_to_next_spike(self):\n",
    "        return 1 / self.spike_rate_per_sec\n",
    "\n",
    "neuron = MySpikingNeuron()\n",
    "neuron.get_avg_seconds_to_next_spike()"
   ]
  },
  {
   "cell_type": "code",
   "execution_count": 32,
   "id": "8d47da7c",
   "metadata": {},
   "outputs": [
    {
     "data": {
      "text/plain": [
       "0.1"
      ]
     },
     "execution_count": 32,
     "metadata": {},
     "output_type": "execute_result"
    }
   ],
   "source": [
    "neuron.spike_rate_per_sec = 10\n",
    "neuron.get_avg_seconds_to_next_spike()"
   ]
  },
  {
   "cell_type": "markdown",
   "id": "9c5510df",
   "metadata": {
    "slideshow": {
     "slide_type": "slide"
    }
   },
   "source": [
    "Editing an instance of a class does not affect other instances of the class and does not alter the class template."
   ]
  },
  {
   "cell_type": "code",
   "execution_count": 33,
   "id": "d2c8ec38",
   "metadata": {},
   "outputs": [
    {
     "name": "stdout",
     "output_type": "stream",
     "text": [
      "10\n",
      "20\n"
     ]
    }
   ],
   "source": [
    "another_neuron = MySpikingNeuron()\n",
    "\n",
    "print(neuron.spike_rate_per_sec)\n",
    "print(another_neuron.spike_rate_per_sec)"
   ]
  },
  {
   "cell_type": "markdown",
   "id": "11e8b60e",
   "metadata": {},
   "source": [
    "This way you can create many instances of `MySpikingNeuron` and assign them all different spike rates."
   ]
  },
  {
   "attachments": {},
   "cell_type": "markdown",
   "id": "6c31c66c",
   "metadata": {
    "slideshow": {
     "slide_type": "slide"
    }
   },
   "source": [
    "`__init__(self, ...)`"
   ]
  },
  {
   "cell_type": "code",
   "execution_count": 34,
   "id": "039071b1",
   "metadata": {},
   "outputs": [],
   "source": [
    "class MySpikingNeuron:\n",
    "    \n",
    "    def __init__(self, rate=20, region=\"hippocampus\"):\n",
    "        self.spike_rate_per_sec = rate\n",
    "        self.region = region"
   ]
  },
  {
   "cell_type": "code",
   "execution_count": 35,
   "id": "b56bdda6",
   "metadata": {},
   "outputs": [],
   "source": [
    "neuronA = MySpikingNeuron(10, \"cortex\")\n",
    "neuronB = MySpikingNeuron(5)\n",
    "neuronC = MySpikingNeuron()\n",
    "neuronD = MySpikingNeuron(region=\"spinal cord\")"
   ]
  },
  {
   "cell_type": "markdown",
   "id": "dda4de32",
   "metadata": {
    "slideshow": {
     "slide_type": "fragment"
    }
   },
   "source": [
    "The special attribute `__dict__` is a dictionary of a class instance's attributes."
   ]
  },
  {
   "cell_type": "code",
   "execution_count": 36,
   "id": "0f2c85cb",
   "metadata": {
    "slideshow": {
     "slide_type": "-"
    }
   },
   "outputs": [
    {
     "name": "stdout",
     "output_type": "stream",
     "text": [
      "{'spike_rate_per_sec': 10, 'region': 'cortex'}\n",
      "{'spike_rate_per_sec': 5, 'region': 'hippocampus'}\n",
      "{'spike_rate_per_sec': 20, 'region': 'hippocampus'}\n",
      "{'spike_rate_per_sec': 20, 'region': 'spinal cord'}\n"
     ]
    }
   ],
   "source": [
    "print(neuronA.__dict__)\n",
    "print(neuronB.__dict__)\n",
    "print(neuronC.__dict__)\n",
    "print(neuronD.__dict__)"
   ]
  },
  {
   "cell_type": "code",
   "execution_count": 38,
   "id": "2bf2d11d",
   "metadata": {},
   "outputs": [
    {
     "data": {
      "text/plain": [
       "(10, 5)"
      ]
     },
     "execution_count": 38,
     "metadata": {},
     "output_type": "execute_result"
    }
   ],
   "source": [
    "neuronA.spike_rate_per_sec, neuronB.spike_rate_per_sec"
   ]
  },
  {
   "attachments": {},
   "cell_type": "markdown",
   "id": "aa110083",
   "metadata": {},
   "source": [
    "Another example of a class method."
   ]
  },
  {
   "cell_type": "code",
   "execution_count": 39,
   "id": "c262aaa0",
   "metadata": {},
   "outputs": [],
   "source": [
    "class MySpikingNeuron:\n",
    "    \n",
    "    def __init__(self, rate=100, region=\"\"):\n",
    "        self.spike_rate_per_sec = rate\n",
    "        self.brain_region = region\n",
    "    \n",
    "    def get_avg_seconds_to_next_spike(self):\n",
    "        return 1 / self.spike_rate_per_sec\n",
    "    \n",
    "    def get_avg_spike_rate(self, another_neuron):\n",
    "        return (self.spike_rate_per_sec + another_neuron.spike_rate_per_sec) / 2"
   ]
  },
  {
   "cell_type": "code",
   "execution_count": 40,
   "id": "4894585a",
   "metadata": {},
   "outputs": [
    {
     "data": {
      "text/plain": [
       "55.0"
      ]
     },
     "execution_count": 40,
     "metadata": {},
     "output_type": "execute_result"
    }
   ],
   "source": [
    "neuronA = MySpikingNeuron(10)\n",
    "neuronB = MySpikingNeuron(100)\n",
    "\n",
    "neuronA.get_avg_spike_rate(neuronB)"
   ]
  },
  {
   "attachments": {},
   "cell_type": "markdown",
   "id": "7301f7a9",
   "metadata": {},
   "source": [
    "### Inheritance"
   ]
  },
  {
   "cell_type": "code",
   "execution_count": 44,
   "id": "97e94e51",
   "metadata": {},
   "outputs": [],
   "source": [
    "class MySpikingNeuron:\n",
    "    \n",
    "    def __init__(self):\n",
    "        self.spike_rate_per_sec = 100\n",
    "    \n",
    "    def get_avg_seconds_to_next_spike(self):\n",
    "        return 1 / self.spike_rate_per_sec"
   ]
  },
  {
   "cell_type": "code",
   "execution_count": 45,
   "id": "1e249d5f",
   "metadata": {},
   "outputs": [],
   "source": [
    "class MyCoolSpikingNeuron(MySpikingNeuron):\n",
    "    \n",
    "    def __init__(self):\n",
    "        # initialize the parent class\n",
    "        MySpikingNeuron.__init__(self)\n",
    "\n",
    "        self.coolness_factor = 9"
   ]
  },
  {
   "cell_type": "code",
   "execution_count": 46,
   "id": "5e68439b",
   "metadata": {},
   "outputs": [
    {
     "data": {
      "text/plain": [
       "{'spike_rate_per_sec': 100, 'coolness_factor': 9}"
      ]
     },
     "execution_count": 46,
     "metadata": {},
     "output_type": "execute_result"
    }
   ],
   "source": [
    "neuron = MyCoolSpikingNeuron()\n",
    "\n",
    "neuron.__dict__"
   ]
  },
  {
   "cell_type": "code",
   "execution_count": 47,
   "id": "a9c9a372",
   "metadata": {},
   "outputs": [
    {
     "data": {
      "text/plain": [
       "0.01"
      ]
     },
     "execution_count": 47,
     "metadata": {},
     "output_type": "execute_result"
    }
   ],
   "source": [
    "neuron.get_avg_seconds_to_next_spike()"
   ]
  },
  {
   "cell_type": "markdown",
   "id": "98379e3d",
   "metadata": {
    "slideshow": {
     "slide_type": "slide"
    }
   },
   "source": [
    "Let's check out a class that implements **linear regression** (*fitting a line to some data*): https://scikit-learn.org/stable/modules/generated/sklearn.linear_model.LinearRegression.html#sklearn.linear_model.LinearRegression\n",
    "\n",
    "The source code for this class is available at: https://github.com/scikit-learn/scikit-learn/blob/f3f51f9b6/sklearn/linear_model/_base.py#L529"
   ]
  },
  {
   "cell_type": "code",
   "execution_count": 18,
   "id": "256ac664",
   "metadata": {},
   "outputs": [],
   "source": [
    "# You will find countless trivial examples of classes online such as:\n",
    "\n",
    "class Dog:\n",
    "\n",
    "    def __init__(self, name, breed):\n",
    "        self.name = name\n",
    "        self.breed = breed\n",
    "        self.tricks = [\"sit\"]\n",
    "\n",
    "    def add_trick(self, trick):\n",
    "        self.tricks.append(trick)\n",
    "\n",
    "mydog = Dog(\"Scooter\", \"Husky\")\n",
    "mydog.add_trick(\"roll over\")"
   ]
  },
  {
   "attachments": {},
   "cell_type": "markdown",
   "id": "0fb6eb1d",
   "metadata": {},
   "source": [
    "**Does this really warrant a *class*!?**\n",
    "\n",
    "What about a simple *Table* with columns for name, breed, tricks, etc.?"
   ]
  },
  {
   "cell_type": "markdown",
   "id": "ca1fbbeb",
   "metadata": {
    "slideshow": {
     "slide_type": "fragment"
    }
   },
   "source": [
    "An opinion on classes and object-oriented programming (OOP):\n",
    "\n",
    "**In most cases a class is just an *unecessary* or *awkward* attempt at *compartmentalization*.**\n",
    "\n",
    "https://www.youtube.com/watch?v=QM1iUe6IofM&t=2618s"
   ]
  },
  {
   "cell_type": "markdown",
   "id": "507ba03e",
   "metadata": {
    "slideshow": {
     "slide_type": "slide"
    }
   },
   "source": [
    "### When is it appropriate to use a class?\n",
    "\n",
    "Whenever it makes **A LOT OF SENSE** to keep *data (attributes)* and *functionality (methods)* together in a compartmentalized package.\n",
    "\n",
    "Ummm... What does that mean?"
   ]
  },
  {
   "cell_type": "markdown",
   "id": "a51a36c5",
   "metadata": {
    "slideshow": {
     "slide_type": "fragment"
    }
   },
   "source": [
    "There is *no singlular situation* in which a class is obviously the best choice. So instead, how about an **example**:\n",
    "\n",
    "Let's check out a class that implements **linear regression** (*fitting a line to some data*): https://scikit-learn.org/stable/modules/generated/sklearn.linear_model.LinearRegression.html#sklearn.linear_model.LinearRegression\n",
    "\n",
    "The source code for this class is available at: https://github.com/scikit-learn/scikit-learn/blob/f3f51f9b6/sklearn/linear_model/_base.py#L529\n",
    "\n",
    "**Do you think it was useful to implement `LinearRegression` as a class?**"
   ]
  },
  {
   "cell_type": "markdown",
   "id": "0bd18ea9",
   "metadata": {
    "slideshow": {
     "slide_type": "slide"
    }
   },
   "source": [
    "Imagine that we implement classes for multiple analysis methods such as `LinearRegression`, `RidgeRegression`, `RandomForestClassification`, etc.\n",
    "\n",
    "and each of them has a `.fit(data)` method.\n",
    "\n",
    "Then we can write code for many different types of analyses that has a *consistent form*:\n",
    "\n",
    "```python\n",
    "model = LinearRegression()\n",
    "model.fit(data)\n",
    "\n",
    "model = RidgeRegression()\n",
    "model.fit(data)\n",
    "\n",
    "model = RandomForestClassification()\n",
    "model.fit(data)\n",
    "```"
   ]
  },
  {
   "cell_type": "markdown",
   "id": "b6fb82ad",
   "metadata": {
    "cell_style": "center",
    "slideshow": {
     "slide_type": "slide"
    }
   },
   "source": [
    "### Learning goals - *Classes*\n",
    "\n",
    "|  |  |  |\n",
    "|--|--|--|\n",
    "| <img src=\"images/thinking-icon.png\"> | <div class=\"alert alert-info\">You will be able to write and use your own classes.</div> | `class MyClass:` |\n",
    "| <img src=\"images/thinking-icon.png\"> | <div class=\"alert alert-info\">You will appreciate that classes are not always the best option.</div> |  |"
   ]
  },
  {
   "cell_type": "markdown",
   "id": "cf2aca8c",
   "metadata": {
    "slideshow": {
     "slide_type": "slide"
    }
   },
   "source": [
    "# Modules\n",
    "\n",
    "- Classes\n",
    "- *Modules*"
   ]
  },
  {
   "cell_type": "markdown",
   "id": "e60ec020",
   "metadata": {
    "cell_style": "center",
    "slideshow": {
     "slide_type": "slide"
    }
   },
   "source": [
    "### Learning goals - *Modules*\n",
    "\n",
    "|  |  |  |\n",
    "|--|--|--|\n",
    "| <img src=\"images/thinking-icon.png\"> | <div class=\"alert alert-info\">You will be able to organize your code into your own modules.</div> | `import mymodule:` |"
   ]
  },
  {
   "cell_type": "markdown",
   "id": "bef746da",
   "metadata": {
    "slideshow": {
     "slide_type": "slide"
    }
   },
   "source": [
    "A **module** is just a **collection of any kind of objects** including *data*, *functions*, *classes*, etc.\n",
    "\n",
    "That's pretty much the same thing as a class!?\n",
    "\n",
    "But a *module is a single python `.py` file*, whereas a *class is just a code block* within a file.\n",
    "\n",
    "You can think of it as:\n",
    "\n",
    "- **module** = compartmentalization on a *macro scale*\n",
    "- **class** = compartmentalization on a *micro scale*"
   ]
  },
  {
   "cell_type": "markdown",
   "id": "b0616b8c",
   "metadata": {
    "slideshow": {
     "slide_type": "fragment"
    }
   },
   "source": [
    "**Classes** are only a good idea in *LIMITED CASES*.\n",
    "\n",
    "**Modules** are almost *ALWAYS A GOOD IDEA* if your code contains more than a few very short functions or classes."
   ]
  },
  {
   "attachments": {},
   "cell_type": "markdown",
   "id": "5fe99af0",
   "metadata": {},
   "source": [
    "Module `MyNeuron.py` contains a defintion for the class `MySpikingNeuron`."
   ]
  },
  {
   "cell_type": "code",
   "execution_count": 48,
   "id": "7051dfeb",
   "metadata": {},
   "outputs": [],
   "source": [
    "import MyNeuron\n",
    "\n",
    "neuronA = MyNeuron.MySpikingNeuron(10)\n",
    "neuronB = MyNeuron.MySpikingNeuron(100)"
   ]
  },
  {
   "cell_type": "code",
   "execution_count": 49,
   "id": "817f570f",
   "metadata": {},
   "outputs": [],
   "source": [
    "import MyNeuron as mn\n",
    "\n",
    "neuronA = mn.MySpikingNeuron(10)\n",
    "neuronB = mn.MySpikingNeuron(100)"
   ]
  },
  {
   "cell_type": "code",
   "execution_count": 52,
   "id": "6356cc7b",
   "metadata": {},
   "outputs": [
    {
     "data": {
      "text/plain": [
       "MyNeuron.MySpikingNeuron"
      ]
     },
     "execution_count": 52,
     "metadata": {},
     "output_type": "execute_result"
    }
   ],
   "source": [
    "from MyNeuron import MySpikingNeuron\n",
    "\n",
    "neuronA = MySpikingNeuron(10)\n",
    "neuronB = MySpikingNeuron(100)\n",
    "\n",
    "MySpikingNeuron"
   ]
  },
  {
   "cell_type": "markdown",
   "id": "2c1f74fe",
   "metadata": {},
   "source": [
    "You have access to everything in the module."
   ]
  },
  {
   "cell_type": "code",
   "execution_count": 54,
   "id": "e2401949",
   "metadata": {},
   "outputs": [],
   "source": [
    "import MyNeuron2"
   ]
  },
  {
   "cell_type": "code",
   "execution_count": 55,
   "id": "335ded47",
   "metadata": {},
   "outputs": [
    {
     "data": {
      "text/plain": [
       "'hippocampus'"
      ]
     },
     "execution_count": 55,
     "metadata": {},
     "output_type": "execute_result"
    }
   ],
   "source": [
    "MyNeuron2.brain_region"
   ]
  },
  {
   "cell_type": "code",
   "execution_count": 56,
   "id": "7889da1d",
   "metadata": {},
   "outputs": [
    {
     "data": {
      "text/plain": [
       "[<MyNeuron2.MySpikingNeuron at 0x1071f2110>,\n",
       " <MyNeuron2.MySpikingNeuron at 0x1071f2d10>,\n",
       " <MyNeuron2.MySpikingNeuron at 0x1071f28d0>]"
      ]
     },
     "execution_count": 56,
     "metadata": {},
     "output_type": "execute_result"
    }
   ],
   "source": [
    "neurons = MyNeuron2.create_three_random_neurons()\n",
    "\n",
    "neurons"
   ]
  },
  {
   "cell_type": "code",
   "execution_count": 57,
   "id": "ca0353f7",
   "metadata": {},
   "outputs": [
    {
     "name": "stdout",
     "output_type": "stream",
     "text": [
      "15.851196455009346\n",
      "49.8923489523708\n",
      "10.170349543995615\n"
     ]
    }
   ],
   "source": [
    "for neuron in neurons:\n",
    "    print(neuron.spike_rate_per_sec)"
   ]
  },
  {
   "attachments": {},
   "cell_type": "markdown",
   "id": "57874d36",
   "metadata": {},
   "source": [
    "### Nested modules\n",
    "\n",
    "`MyNeuron3` does not directly contain the definition for the `MySpikingNeuron` class.\n",
    "\n",
    "Instead, `MyNeuron3` itself imports `MyNeuron`."
   ]
  },
  {
   "cell_type": "code",
   "execution_count": 58,
   "id": "9b6b7622",
   "metadata": {},
   "outputs": [],
   "source": [
    "import MyNeuron3"
   ]
  },
  {
   "cell_type": "code",
   "execution_count": 59,
   "id": "6697f741",
   "metadata": {},
   "outputs": [
    {
     "ename": "AttributeError",
     "evalue": "module 'MyNeuron3' has no attribute 'MySpikingNeuron'",
     "output_type": "error",
     "traceback": [
      "\u001b[0;31m---------------------------------------------------------------------------\u001b[0m",
      "\u001b[0;31mAttributeError\u001b[0m                            Traceback (most recent call last)",
      "Cell \u001b[0;32mIn[59], line 1\u001b[0m\n\u001b[0;32m----> 1\u001b[0m neuron \u001b[39m=\u001b[39m MyNeuron3\u001b[39m.\u001b[39;49mMySpikingNeuron(\u001b[39m10\u001b[39m)\n",
      "\u001b[0;31mAttributeError\u001b[0m: module 'MyNeuron3' has no attribute 'MySpikingNeuron'"
     ]
    }
   ],
   "source": [
    "neuron = MyNeuron3.MySpikingNeuron(10)"
   ]
  },
  {
   "cell_type": "code",
   "execution_count": 60,
   "id": "9dd5cd4a",
   "metadata": {},
   "outputs": [
    {
     "data": {
      "text/plain": [
       "<MyNeuron.MySpikingNeuron at 0x107aaeed0>"
      ]
     },
     "execution_count": 60,
     "metadata": {},
     "output_type": "execute_result"
    }
   ],
   "source": [
    "neuron = MyNeuron3.MyNeuron.MySpikingNeuron(10)\n",
    "neuron"
   ]
  },
  {
   "cell_type": "code",
   "execution_count": 61,
   "id": "0cc4e0c5",
   "metadata": {},
   "outputs": [
    {
     "data": {
      "text/plain": [
       "[<MyNeuron.MySpikingNeuron at 0x1071f2cd0>,\n",
       " <MyNeuron.MySpikingNeuron at 0x1071f34d0>,\n",
       " <MyNeuron.MySpikingNeuron at 0x107abff90>]"
      ]
     },
     "execution_count": 61,
     "metadata": {},
     "output_type": "execute_result"
    }
   ],
   "source": [
    "neurons = MyNeuron3.create_three_random_neurons()\n",
    "\n",
    "neurons"
   ]
  },
  {
   "cell_type": "markdown",
   "id": "25fd3968",
   "metadata": {
    "cell_style": "center",
    "slideshow": {
     "slide_type": "slide"
    }
   },
   "source": [
    "### Learning goals - *Modules*\n",
    "\n",
    "|  |  |  |\n",
    "|--|--|--|\n",
    "| <img src=\"images/thinking-icon.png\"> | <div class=\"alert alert-info\">You will be able to organize your code into your own modules.</div> | `import mymodule:` |"
   ]
  }
 ],
 "metadata": {
  "celltoolbar": "Slideshow",
  "kernelspec": {
   "display_name": "Python 3 (ipykernel)",
   "language": "python",
   "name": "python3"
  },
  "language_info": {
   "codemirror_mode": {
    "name": "ipython",
    "version": 3
   },
   "file_extension": ".py",
   "mimetype": "text/x-python",
   "name": "python",
   "nbconvert_exporter": "python",
   "pygments_lexer": "ipython3",
   "version": "3.11.0"
  },
  "rise": {
   "enable_chalkboard": true,
   "scroll": true,
   "theme": "white"
  }
 },
 "nbformat": 4,
 "nbformat_minor": 5
}
