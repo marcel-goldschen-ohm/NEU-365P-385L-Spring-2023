{
 "cells": [
  {
   "attachments": {},
   "cell_type": "markdown",
   "id": "da9bf46b-f07e-4625-9f0a-7035f2cb2526",
   "metadata": {
    "tags": []
   },
   "source": [
    "# Homework - Clustering (9 pts)"
   ]
  },
  {
   "cell_type": "markdown",
   "id": "5ff1ce62",
   "metadata": {},
   "source": [
    "---\n",
    "### Collaborators\n",
    "You MUST include a bulleted list with the full names of everyone you collaborated with on this assignment.\n",
    "- Jane Doe\n",
    "- John Doe"
   ]
  },
  {
   "attachments": {},
   "cell_type": "markdown",
   "id": "7189adf9",
   "metadata": {},
   "source": [
    "---\n",
    "Questions are based on the mouse cortex protein expression level dataset in the file `Data_Cortex_Nuclear.csv`."
   ]
  },
  {
   "cell_type": "code",
   "execution_count": null,
   "id": "2650ad47",
   "metadata": {},
   "outputs": [],
   "source": [
    "import pandas as pd\n",
    "df = pd.read_csv('Data_Cortex_Nuclear.csv')\n",
    "df"
   ]
  },
  {
   "attachments": {},
   "cell_type": "markdown",
   "id": "135dc02a",
   "metadata": {},
   "source": [
    "---\n",
    "1. (3 pts) Remove all mice/samples with missing measurements from the dataframe. Store the result in the `df` variable for use with subsequent questions. Then plot `Ubiquitin_N` vs `SOD1_N` for the remaining mice in the dataset with each point colorcoded according to `Behavior`."
   ]
  },
  {
   "cell_type": "code",
   "execution_count": null,
   "id": "7b59476c",
   "metadata": {},
   "outputs": [],
   "source": []
  },
  {
   "attachments": {},
   "cell_type": "markdown",
   "id": "5ab927b4",
   "metadata": {},
   "source": [
    "---\n",
    "2. (3 pts) For the `Ubiquitin_N` vs `SOD1_N` data points, plot the Bayesian Information Criterion for Gaussian Mixture Models with 1-15 clusters."
   ]
  },
  {
   "cell_type": "code",
   "execution_count": null,
   "id": "964d1116",
   "metadata": {},
   "outputs": [],
   "source": []
  },
  {
   "attachments": {},
   "cell_type": "markdown",
   "id": "395c269c",
   "metadata": {},
   "source": [
    "---\n",
    "3. (3 pts) Select the optimal number of clusters for a Guassian Mixture Model based in the Bayesian Information Criterion scores above. Replot the `Ubiquitin_N` vs `SOD1_N` data with each point colorcoded according to your selected model cluster prediction."
   ]
  },
  {
   "cell_type": "code",
   "execution_count": null,
   "id": "63248d24",
   "metadata": {},
   "outputs": [],
   "source": []
  }
 ],
 "metadata": {
  "kernelspec": {
   "display_name": "neu365p",
   "language": "python",
   "name": "python3"
  },
  "language_info": {
   "codemirror_mode": {
    "name": "ipython",
    "version": 3
   },
   "file_extension": ".py",
   "mimetype": "text/x-python",
   "name": "python",
   "nbconvert_exporter": "python",
   "pygments_lexer": "ipython3",
   "version": "3.11.0"
  },
  "vscode": {
   "interpreter": {
    "hash": "7b6fce1537a0f61b09a1c0f374c9c73e53e0122f3da97a6f70c30069bc6a1f20"
   }
  }
 },
 "nbformat": 4,
 "nbformat_minor": 5
}
