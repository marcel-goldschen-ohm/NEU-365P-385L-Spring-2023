{
 "cells": [
  {
   "attachments": {},
   "cell_type": "markdown",
   "id": "da9bf46b-f07e-4625-9f0a-7035f2cb2526",
   "metadata": {
    "tags": []
   },
   "source": [
    "# Homework - Neural Network (9 pts)\n",
    "\n",
    "**!!! Plus 3 pts EXTRA CREDIT**"
   ]
  },
  {
   "cell_type": "markdown",
   "id": "5ff1ce62",
   "metadata": {},
   "source": [
    "---\n",
    "### Collaborators\n",
    "You MUST include a bulleted list with the full names of everyone you collaborated with on this assignment.\n",
    "- Jane Doe\n",
    "- John Doe"
   ]
  },
  {
   "attachments": {},
   "cell_type": "markdown",
   "id": "900b8aa1",
   "metadata": {},
   "source": [
    "---\n",
    "Questions are based on mouse V1 data from Stringer et al. (2019)\n",
    "https://www.biorxiv.org/content/10.1101/679324v2.abstract\n",
    "\n",
    "These data comprise time-averaged responses of ~20,000 neurons to ~4,000 stimulus gratings of different orientations from 0-360 degrees, recorded through Calcium imaging. The responses have been normalized by spontaneous levels of activity and then z-scored over stimuli, so expect negative numbers. They have also been binned and averaged to each degree of orientation."
   ]
  },
  {
   "cell_type": "code",
   "execution_count": 1,
   "id": "6135aec3",
   "metadata": {},
   "outputs": [
    {
     "data": {
      "text/plain": [
       "((360, 23589), (360,))"
      ]
     },
     "execution_count": 1,
     "metadata": {},
     "output_type": "execute_result"
    }
   ],
   "source": [
    "import numpy as np\n",
    "\n",
    "# columns are neurons, rows are the neural responses to a grating at a particular orientation\n",
    "X = np.load('neural_responses.npy')\n",
    "\n",
    "# grating orientations in degrees for each row of X\n",
    "y = np.load('grating_orientations.npy')\n",
    "\n",
    "# angle normalized to fall in [0,1]\n",
    "# to get back actual angle, just multiply by 360\n",
    "y /= 360\n",
    "\n",
    "X.shape, y.shape"
   ]
  },
  {
   "attachments": {},
   "cell_type": "markdown",
   "id": "03cd44aa",
   "metadata": {},
   "source": [
    "---\n",
    "1. (3 pts) Set the variable `device` to either \"cuda\", \"mps\" or \"cpu\" as appropriate."
   ]
  },
  {
   "cell_type": "code",
   "execution_count": null,
   "id": "8874e49a",
   "metadata": {},
   "outputs": [],
   "source": []
  },
  {
   "cell_type": "markdown",
   "id": "7df25c0f",
   "metadata": {},
   "source": [
    "---\n",
    "2. (3 pts) Split data into training and testing sets with 50% of the data in each set. Then convert the data into PyTorch tensors on the appropriate device."
   ]
  },
  {
   "cell_type": "code",
   "execution_count": null,
   "id": "e0833f4d",
   "metadata": {},
   "outputs": [],
   "source": []
  },
  {
   "cell_type": "markdown",
   "id": "478fc81b",
   "metadata": {},
   "source": [
    "---\n",
    "3. (3 pts) Define a neural network for predicting grating angle based on neural activity. Input is the activity of all biological neurons. Next layer has 500 neurons with ReLU activation. Next layer has 10 neurons with ReLU activation. Next layer has 5 neurons with ReLU activation. Final layer has as many neurons as needed for the task with sigmoid activation."
   ]
  },
  {
   "cell_type": "code",
   "execution_count": null,
   "id": "9f28c6c8",
   "metadata": {},
   "outputs": [],
   "source": []
  },
  {
   "cell_type": "markdown",
   "id": "4afb5981",
   "metadata": {},
   "source": [
    "---\n",
    "EXTRA CREDIT (1 pt) Write function for training your network."
   ]
  },
  {
   "cell_type": "code",
   "execution_count": null,
   "id": "24cb606c",
   "metadata": {},
   "outputs": [],
   "source": []
  },
  {
   "attachments": {},
   "cell_type": "markdown",
   "id": "9930f6d0",
   "metadata": {},
   "source": [
    "---\n",
    "EXTRA CREDIT (1 pt) Create an instance of your neural network on the appropriate device, a loss function, a stochastic gradient descent optimizer (try a learning rate of ~0.1), and then train your network with enough epochs to converge. Plot your training loss during optimization to visualize convergence."
   ]
  },
  {
   "cell_type": "code",
   "execution_count": null,
   "id": "eeb98cae",
   "metadata": {},
   "outputs": [],
   "source": []
  },
  {
   "cell_type": "markdown",
   "id": "f4e4912b",
   "metadata": {},
   "source": [
    "---\n",
    "EXTRA CREDIT (1 pt) Plot the known grating angles in the test set vs. the network's predictions."
   ]
  },
  {
   "cell_type": "code",
   "execution_count": null,
   "id": "9af742e1",
   "metadata": {},
   "outputs": [],
   "source": []
  }
 ],
 "metadata": {
  "kernelspec": {
   "display_name": "neu365p",
   "language": "python",
   "name": "python3"
  },
  "language_info": {
   "codemirror_mode": {
    "name": "ipython",
    "version": 3
   },
   "file_extension": ".py",
   "mimetype": "text/x-python",
   "name": "python",
   "nbconvert_exporter": "python",
   "pygments_lexer": "ipython3",
   "version": "3.11.0"
  },
  "vscode": {
   "interpreter": {
    "hash": "7b6fce1537a0f61b09a1c0f374c9c73e53e0122f3da97a6f70c30069bc6a1f20"
   }
  }
 },
 "nbformat": 4,
 "nbformat_minor": 5
}
