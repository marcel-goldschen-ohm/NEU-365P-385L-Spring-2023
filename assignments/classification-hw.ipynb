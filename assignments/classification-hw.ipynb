{
 "cells": [
  {
   "attachments": {},
   "cell_type": "markdown",
   "id": "da9bf46b-f07e-4625-9f0a-7035f2cb2526",
   "metadata": {
    "tags": []
   },
   "source": [
    "# Homework - Classification (15 pts)"
   ]
  },
  {
   "cell_type": "markdown",
   "id": "5ff1ce62",
   "metadata": {},
   "source": [
    "---\n",
    "### Collaborators\n",
    "You MUST include a bulleted list with the full names of everyone you collaborated with on this assignment.\n",
    "- Jane Doe\n",
    "- John Doe"
   ]
  },
  {
   "attachments": {},
   "cell_type": "markdown",
   "id": "7189adf9",
   "metadata": {},
   "source": [
    "---\n",
    "Questions are based on the mouse cortex protein expression level dataset in the file `Data_Cortex_Nuclear.csv`."
   ]
  },
  {
   "cell_type": "code",
   "execution_count": null,
   "id": "2650ad47",
   "metadata": {},
   "outputs": [],
   "source": [
    "import pandas as pd\n",
    "df = pd.read_csv('Data_Cortex_Nuclear.csv')\n",
    "df"
   ]
  },
  {
   "cell_type": "markdown",
   "id": "135dc02a",
   "metadata": {},
   "source": [
    "---\n",
    "1. (3 pts) Remove all mice/samples with missing measurements from the dataframe. Store the result in the `df` variable for use with subsequent questions."
   ]
  },
  {
   "cell_type": "code",
   "execution_count": null,
   "id": "7b59476c",
   "metadata": {},
   "outputs": [],
   "source": []
  },
  {
   "cell_type": "markdown",
   "id": "5ab927b4",
   "metadata": {},
   "source": [
    "---\n",
    "2. (3 pts) Use a random forest classifier with 100 trees to predict whether a mouse was either memantine or saline treated based on their protein expression profile. Use `GridSearchCV` to tune the hyperparameter `max_depth` by testing on tree max depths from 2-20. Report the optimal `max_depth` for this classifier."
   ]
  },
  {
   "cell_type": "code",
   "execution_count": null,
   "id": "43e2845f",
   "metadata": {},
   "outputs": [],
   "source": []
  },
  {
   "cell_type": "markdown",
   "id": "395c269c",
   "metadata": {},
   "source": [
    "---\n",
    "3. (3 pts) For the random forest classifier with `max_depth` tuned, compute and display a confusion matrices based on cross validated predictions for each sample."
   ]
  },
  {
   "cell_type": "code",
   "execution_count": null,
   "id": "63248d24",
   "metadata": {},
   "outputs": [],
   "source": []
  },
  {
   "cell_type": "markdown",
   "id": "ef52f139",
   "metadata": {},
   "source": [
    "---\n",
    "4. (3 pts) For the random forest classifier with `max_depth` tuned, plot the ROC curve based on cross validated predictions for Memantine treatment."
   ]
  },
  {
   "cell_type": "code",
   "execution_count": null,
   "id": "0600690b",
   "metadata": {},
   "outputs": [],
   "source": []
  },
  {
   "attachments": {},
   "cell_type": "markdown",
   "id": "30ae4bd6",
   "metadata": {},
   "source": [
    "---\n",
    "5. (3 pts) Use a random forest with 100 trees and the same `max_depth` hyperparameter as tuned above to classify the mice into each of the 8 classes defined by genotype, fear conditioning and treatment based on their protein expression profiles. Repeat this classification 77 separate times, where on the ith time you will use only the first i proteins. For example, the 1st time you will only use expression of DYRK1A_N, the 2nd time you will use both DYRK1A_N and ITSN1_N as predictive features, the 3rd time DYRK1A_N, ITSN1_N and BDNF_N, etc. until the 77th time you will use all 77 proteins from DYRK1A_N to CaNA_N. Plot the mean cross validated accuracy of the classifier as a function of the number of protein features used as predictors. *Hint: You may want to use `tqdm` as a progress indicator although it is not necessary to solve the problem.*"
   ]
  },
  {
   "cell_type": "code",
   "execution_count": null,
   "id": "059968cb",
   "metadata": {},
   "outputs": [],
   "source": []
  }
 ],
 "metadata": {
  "kernelspec": {
   "display_name": "neu365p",
   "language": "python",
   "name": "python3"
  },
  "language_info": {
   "codemirror_mode": {
    "name": "ipython",
    "version": 3
   },
   "file_extension": ".py",
   "mimetype": "text/x-python",
   "name": "python",
   "nbconvert_exporter": "python",
   "pygments_lexer": "ipython3",
   "version": "3.11.0"
  },
  "vscode": {
   "interpreter": {
    "hash": "7b6fce1537a0f61b09a1c0f374c9c73e53e0122f3da97a6f70c30069bc6a1f20"
   }
  }
 },
 "nbformat": 4,
 "nbformat_minor": 5
}
